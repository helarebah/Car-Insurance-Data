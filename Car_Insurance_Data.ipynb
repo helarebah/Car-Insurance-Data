{
  "nbformat": 4,
  "nbformat_minor": 0,
  "metadata": {
    "colab": {
      "provenance": [],
      "authorship_tag": "ABX9TyOzugijP0mykSw++o9O3HP0",
      "include_colab_link": true
    },
    "kernelspec": {
      "name": "python3",
      "display_name": "Python 3"
    },
    "language_info": {
      "name": "python"
    }
  },
  "cells": [
    {
      "cell_type": "markdown",
      "metadata": {
        "id": "view-in-github",
        "colab_type": "text"
      },
      "source": [
        "<a href=\"https://colab.research.google.com/github/helarebah/Car-Insurance-Data/blob/main/Car_Insurance_Data.ipynb\" target=\"_parent\"><img src=\"https://colab.research.google.com/assets/colab-badge.svg\" alt=\"Open In Colab\"/></a>"
      ]
    },
    {
      "cell_type": "code",
      "execution_count": 18,
      "metadata": {
        "id": "k-p-PHh_ESsz"
      },
      "outputs": [],
      "source": [
        "# Imports\n",
        "import numpy as np\n",
        "import pandas as pd\n",
        "import matplotlib.pyplot as plt\n",
        "import seaborn as sns\n",
        "from sklearn.preprocessing import StandardScaler\n",
        "from sklearn.cluster import KMeans\n",
        "from sklearn.metrics import silhouette_score"
      ]
    },
    {
      "cell_type": "code",
      "source": [
        "df = pd.read_csv('/content/archive (3).zip')\n",
        "df.head()"
      ],
      "metadata": {
        "colab": {
          "base_uri": "https://localhost:8080/",
          "height": 313
        },
        "id": "wACE3o8gEgFe",
        "outputId": "e00fe06a-c44d-4554-e769-8ee1d88e86db"
      },
      "execution_count": 19,
      "outputs": [
        {
          "output_type": "execute_result",
          "data": {
            "text/plain": [
              "       ID    AGE  GENDER      RACE DRIVING_EXPERIENCE    EDUCATION  \\\n",
              "0  569520    65+  female  majority               0-9y  high school   \n",
              "1  750365  16-25    male  majority               0-9y         none   \n",
              "2  199901  16-25  female  majority               0-9y  high school   \n",
              "3  478866  16-25    male  majority               0-9y   university   \n",
              "4  731664  26-39    male  majority             10-19y         none   \n",
              "\n",
              "          INCOME  CREDIT_SCORE  VEHICLE_OWNERSHIP VEHICLE_YEAR  MARRIED  \\\n",
              "0    upper class      0.629027                1.0   after 2015      0.0   \n",
              "1        poverty      0.357757                0.0  before 2015      0.0   \n",
              "2  working class      0.493146                1.0  before 2015      0.0   \n",
              "3  working class      0.206013                1.0  before 2015      0.0   \n",
              "4  working class      0.388366                1.0  before 2015      0.0   \n",
              "\n",
              "   CHILDREN  POSTAL_CODE  ANNUAL_MILEAGE VEHICLE_TYPE  SPEEDING_VIOLATIONS  \\\n",
              "0       1.0        10238         12000.0        sedan                    0   \n",
              "1       0.0        10238         16000.0        sedan                    0   \n",
              "2       0.0        10238         11000.0        sedan                    0   \n",
              "3       1.0        32765         11000.0        sedan                    0   \n",
              "4       0.0        32765         12000.0        sedan                    2   \n",
              "\n",
              "   DUIS  PAST_ACCIDENTS  OUTCOME  \n",
              "0     0               0      0.0  \n",
              "1     0               0      1.0  \n",
              "2     0               0      0.0  \n",
              "3     0               0      0.0  \n",
              "4     0               1      1.0  "
            ],
            "text/html": [
              "\n",
              "  <div id=\"df-e7731070-64e3-48de-9307-34b764e35e31\" class=\"colab-df-container\">\n",
              "    <div>\n",
              "<style scoped>\n",
              "    .dataframe tbody tr th:only-of-type {\n",
              "        vertical-align: middle;\n",
              "    }\n",
              "\n",
              "    .dataframe tbody tr th {\n",
              "        vertical-align: top;\n",
              "    }\n",
              "\n",
              "    .dataframe thead th {\n",
              "        text-align: right;\n",
              "    }\n",
              "</style>\n",
              "<table border=\"1\" class=\"dataframe\">\n",
              "  <thead>\n",
              "    <tr style=\"text-align: right;\">\n",
              "      <th></th>\n",
              "      <th>ID</th>\n",
              "      <th>AGE</th>\n",
              "      <th>GENDER</th>\n",
              "      <th>RACE</th>\n",
              "      <th>DRIVING_EXPERIENCE</th>\n",
              "      <th>EDUCATION</th>\n",
              "      <th>INCOME</th>\n",
              "      <th>CREDIT_SCORE</th>\n",
              "      <th>VEHICLE_OWNERSHIP</th>\n",
              "      <th>VEHICLE_YEAR</th>\n",
              "      <th>MARRIED</th>\n",
              "      <th>CHILDREN</th>\n",
              "      <th>POSTAL_CODE</th>\n",
              "      <th>ANNUAL_MILEAGE</th>\n",
              "      <th>VEHICLE_TYPE</th>\n",
              "      <th>SPEEDING_VIOLATIONS</th>\n",
              "      <th>DUIS</th>\n",
              "      <th>PAST_ACCIDENTS</th>\n",
              "      <th>OUTCOME</th>\n",
              "    </tr>\n",
              "  </thead>\n",
              "  <tbody>\n",
              "    <tr>\n",
              "      <th>0</th>\n",
              "      <td>569520</td>\n",
              "      <td>65+</td>\n",
              "      <td>female</td>\n",
              "      <td>majority</td>\n",
              "      <td>0-9y</td>\n",
              "      <td>high school</td>\n",
              "      <td>upper class</td>\n",
              "      <td>0.629027</td>\n",
              "      <td>1.0</td>\n",
              "      <td>after 2015</td>\n",
              "      <td>0.0</td>\n",
              "      <td>1.0</td>\n",
              "      <td>10238</td>\n",
              "      <td>12000.0</td>\n",
              "      <td>sedan</td>\n",
              "      <td>0</td>\n",
              "      <td>0</td>\n",
              "      <td>0</td>\n",
              "      <td>0.0</td>\n",
              "    </tr>\n",
              "    <tr>\n",
              "      <th>1</th>\n",
              "      <td>750365</td>\n",
              "      <td>16-25</td>\n",
              "      <td>male</td>\n",
              "      <td>majority</td>\n",
              "      <td>0-9y</td>\n",
              "      <td>none</td>\n",
              "      <td>poverty</td>\n",
              "      <td>0.357757</td>\n",
              "      <td>0.0</td>\n",
              "      <td>before 2015</td>\n",
              "      <td>0.0</td>\n",
              "      <td>0.0</td>\n",
              "      <td>10238</td>\n",
              "      <td>16000.0</td>\n",
              "      <td>sedan</td>\n",
              "      <td>0</td>\n",
              "      <td>0</td>\n",
              "      <td>0</td>\n",
              "      <td>1.0</td>\n",
              "    </tr>\n",
              "    <tr>\n",
              "      <th>2</th>\n",
              "      <td>199901</td>\n",
              "      <td>16-25</td>\n",
              "      <td>female</td>\n",
              "      <td>majority</td>\n",
              "      <td>0-9y</td>\n",
              "      <td>high school</td>\n",
              "      <td>working class</td>\n",
              "      <td>0.493146</td>\n",
              "      <td>1.0</td>\n",
              "      <td>before 2015</td>\n",
              "      <td>0.0</td>\n",
              "      <td>0.0</td>\n",
              "      <td>10238</td>\n",
              "      <td>11000.0</td>\n",
              "      <td>sedan</td>\n",
              "      <td>0</td>\n",
              "      <td>0</td>\n",
              "      <td>0</td>\n",
              "      <td>0.0</td>\n",
              "    </tr>\n",
              "    <tr>\n",
              "      <th>3</th>\n",
              "      <td>478866</td>\n",
              "      <td>16-25</td>\n",
              "      <td>male</td>\n",
              "      <td>majority</td>\n",
              "      <td>0-9y</td>\n",
              "      <td>university</td>\n",
              "      <td>working class</td>\n",
              "      <td>0.206013</td>\n",
              "      <td>1.0</td>\n",
              "      <td>before 2015</td>\n",
              "      <td>0.0</td>\n",
              "      <td>1.0</td>\n",
              "      <td>32765</td>\n",
              "      <td>11000.0</td>\n",
              "      <td>sedan</td>\n",
              "      <td>0</td>\n",
              "      <td>0</td>\n",
              "      <td>0</td>\n",
              "      <td>0.0</td>\n",
              "    </tr>\n",
              "    <tr>\n",
              "      <th>4</th>\n",
              "      <td>731664</td>\n",
              "      <td>26-39</td>\n",
              "      <td>male</td>\n",
              "      <td>majority</td>\n",
              "      <td>10-19y</td>\n",
              "      <td>none</td>\n",
              "      <td>working class</td>\n",
              "      <td>0.388366</td>\n",
              "      <td>1.0</td>\n",
              "      <td>before 2015</td>\n",
              "      <td>0.0</td>\n",
              "      <td>0.0</td>\n",
              "      <td>32765</td>\n",
              "      <td>12000.0</td>\n",
              "      <td>sedan</td>\n",
              "      <td>2</td>\n",
              "      <td>0</td>\n",
              "      <td>1</td>\n",
              "      <td>1.0</td>\n",
              "    </tr>\n",
              "  </tbody>\n",
              "</table>\n",
              "</div>\n",
              "    <div class=\"colab-df-buttons\">\n",
              "\n",
              "  <div class=\"colab-df-container\">\n",
              "    <button class=\"colab-df-convert\" onclick=\"convertToInteractive('df-e7731070-64e3-48de-9307-34b764e35e31')\"\n",
              "            title=\"Convert this dataframe to an interactive table.\"\n",
              "            style=\"display:none;\">\n",
              "\n",
              "  <svg xmlns=\"http://www.w3.org/2000/svg\" height=\"24px\" viewBox=\"0 -960 960 960\">\n",
              "    <path d=\"M120-120v-720h720v720H120Zm60-500h600v-160H180v160Zm220 220h160v-160H400v160Zm0 220h160v-160H400v160ZM180-400h160v-160H180v160Zm440 0h160v-160H620v160ZM180-180h160v-160H180v160Zm440 0h160v-160H620v160Z\"/>\n",
              "  </svg>\n",
              "    </button>\n",
              "\n",
              "  <style>\n",
              "    .colab-df-container {\n",
              "      display:flex;\n",
              "      gap: 12px;\n",
              "    }\n",
              "\n",
              "    .colab-df-convert {\n",
              "      background-color: #E8F0FE;\n",
              "      border: none;\n",
              "      border-radius: 50%;\n",
              "      cursor: pointer;\n",
              "      display: none;\n",
              "      fill: #1967D2;\n",
              "      height: 32px;\n",
              "      padding: 0 0 0 0;\n",
              "      width: 32px;\n",
              "    }\n",
              "\n",
              "    .colab-df-convert:hover {\n",
              "      background-color: #E2EBFA;\n",
              "      box-shadow: 0px 1px 2px rgba(60, 64, 67, 0.3), 0px 1px 3px 1px rgba(60, 64, 67, 0.15);\n",
              "      fill: #174EA6;\n",
              "    }\n",
              "\n",
              "    .colab-df-buttons div {\n",
              "      margin-bottom: 4px;\n",
              "    }\n",
              "\n",
              "    [theme=dark] .colab-df-convert {\n",
              "      background-color: #3B4455;\n",
              "      fill: #D2E3FC;\n",
              "    }\n",
              "\n",
              "    [theme=dark] .colab-df-convert:hover {\n",
              "      background-color: #434B5C;\n",
              "      box-shadow: 0px 1px 3px 1px rgba(0, 0, 0, 0.15);\n",
              "      filter: drop-shadow(0px 1px 2px rgba(0, 0, 0, 0.3));\n",
              "      fill: #FFFFFF;\n",
              "    }\n",
              "  </style>\n",
              "\n",
              "    <script>\n",
              "      const buttonEl =\n",
              "        document.querySelector('#df-e7731070-64e3-48de-9307-34b764e35e31 button.colab-df-convert');\n",
              "      buttonEl.style.display =\n",
              "        google.colab.kernel.accessAllowed ? 'block' : 'none';\n",
              "\n",
              "      async function convertToInteractive(key) {\n",
              "        const element = document.querySelector('#df-e7731070-64e3-48de-9307-34b764e35e31');\n",
              "        const dataTable =\n",
              "          await google.colab.kernel.invokeFunction('convertToInteractive',\n",
              "                                                    [key], {});\n",
              "        if (!dataTable) return;\n",
              "\n",
              "        const docLinkHtml = 'Like what you see? Visit the ' +\n",
              "          '<a target=\"_blank\" href=https://colab.research.google.com/notebooks/data_table.ipynb>data table notebook</a>'\n",
              "          + ' to learn more about interactive tables.';\n",
              "        element.innerHTML = '';\n",
              "        dataTable['output_type'] = 'display_data';\n",
              "        await google.colab.output.renderOutput(dataTable, element);\n",
              "        const docLink = document.createElement('div');\n",
              "        docLink.innerHTML = docLinkHtml;\n",
              "        element.appendChild(docLink);\n",
              "      }\n",
              "    </script>\n",
              "  </div>\n",
              "\n",
              "\n",
              "<div id=\"df-c5f54315-8874-4f01-88d1-d7f05de13b75\">\n",
              "  <button class=\"colab-df-quickchart\" onclick=\"quickchart('df-c5f54315-8874-4f01-88d1-d7f05de13b75')\"\n",
              "            title=\"Suggest charts\"\n",
              "            style=\"display:none;\">\n",
              "\n",
              "<svg xmlns=\"http://www.w3.org/2000/svg\" height=\"24px\"viewBox=\"0 0 24 24\"\n",
              "     width=\"24px\">\n",
              "    <g>\n",
              "        <path d=\"M19 3H5c-1.1 0-2 .9-2 2v14c0 1.1.9 2 2 2h14c1.1 0 2-.9 2-2V5c0-1.1-.9-2-2-2zM9 17H7v-7h2v7zm4 0h-2V7h2v10zm4 0h-2v-4h2v4z\"/>\n",
              "    </g>\n",
              "</svg>\n",
              "  </button>\n",
              "\n",
              "<style>\n",
              "  .colab-df-quickchart {\n",
              "      --bg-color: #E8F0FE;\n",
              "      --fill-color: #1967D2;\n",
              "      --hover-bg-color: #E2EBFA;\n",
              "      --hover-fill-color: #174EA6;\n",
              "      --disabled-fill-color: #AAA;\n",
              "      --disabled-bg-color: #DDD;\n",
              "  }\n",
              "\n",
              "  [theme=dark] .colab-df-quickchart {\n",
              "      --bg-color: #3B4455;\n",
              "      --fill-color: #D2E3FC;\n",
              "      --hover-bg-color: #434B5C;\n",
              "      --hover-fill-color: #FFFFFF;\n",
              "      --disabled-bg-color: #3B4455;\n",
              "      --disabled-fill-color: #666;\n",
              "  }\n",
              "\n",
              "  .colab-df-quickchart {\n",
              "    background-color: var(--bg-color);\n",
              "    border: none;\n",
              "    border-radius: 50%;\n",
              "    cursor: pointer;\n",
              "    display: none;\n",
              "    fill: var(--fill-color);\n",
              "    height: 32px;\n",
              "    padding: 0;\n",
              "    width: 32px;\n",
              "  }\n",
              "\n",
              "  .colab-df-quickchart:hover {\n",
              "    background-color: var(--hover-bg-color);\n",
              "    box-shadow: 0 1px 2px rgba(60, 64, 67, 0.3), 0 1px 3px 1px rgba(60, 64, 67, 0.15);\n",
              "    fill: var(--button-hover-fill-color);\n",
              "  }\n",
              "\n",
              "  .colab-df-quickchart-complete:disabled,\n",
              "  .colab-df-quickchart-complete:disabled:hover {\n",
              "    background-color: var(--disabled-bg-color);\n",
              "    fill: var(--disabled-fill-color);\n",
              "    box-shadow: none;\n",
              "  }\n",
              "\n",
              "  .colab-df-spinner {\n",
              "    border: 2px solid var(--fill-color);\n",
              "    border-color: transparent;\n",
              "    border-bottom-color: var(--fill-color);\n",
              "    animation:\n",
              "      spin 1s steps(1) infinite;\n",
              "  }\n",
              "\n",
              "  @keyframes spin {\n",
              "    0% {\n",
              "      border-color: transparent;\n",
              "      border-bottom-color: var(--fill-color);\n",
              "      border-left-color: var(--fill-color);\n",
              "    }\n",
              "    20% {\n",
              "      border-color: transparent;\n",
              "      border-left-color: var(--fill-color);\n",
              "      border-top-color: var(--fill-color);\n",
              "    }\n",
              "    30% {\n",
              "      border-color: transparent;\n",
              "      border-left-color: var(--fill-color);\n",
              "      border-top-color: var(--fill-color);\n",
              "      border-right-color: var(--fill-color);\n",
              "    }\n",
              "    40% {\n",
              "      border-color: transparent;\n",
              "      border-right-color: var(--fill-color);\n",
              "      border-top-color: var(--fill-color);\n",
              "    }\n",
              "    60% {\n",
              "      border-color: transparent;\n",
              "      border-right-color: var(--fill-color);\n",
              "    }\n",
              "    80% {\n",
              "      border-color: transparent;\n",
              "      border-right-color: var(--fill-color);\n",
              "      border-bottom-color: var(--fill-color);\n",
              "    }\n",
              "    90% {\n",
              "      border-color: transparent;\n",
              "      border-bottom-color: var(--fill-color);\n",
              "    }\n",
              "  }\n",
              "</style>\n",
              "\n",
              "  <script>\n",
              "    async function quickchart(key) {\n",
              "      const quickchartButtonEl =\n",
              "        document.querySelector('#' + key + ' button');\n",
              "      quickchartButtonEl.disabled = true;  // To prevent multiple clicks.\n",
              "      quickchartButtonEl.classList.add('colab-df-spinner');\n",
              "      try {\n",
              "        const charts = await google.colab.kernel.invokeFunction(\n",
              "            'suggestCharts', [key], {});\n",
              "      } catch (error) {\n",
              "        console.error('Error during call to suggestCharts:', error);\n",
              "      }\n",
              "      quickchartButtonEl.classList.remove('colab-df-spinner');\n",
              "      quickchartButtonEl.classList.add('colab-df-quickchart-complete');\n",
              "    }\n",
              "    (() => {\n",
              "      let quickchartButtonEl =\n",
              "        document.querySelector('#df-c5f54315-8874-4f01-88d1-d7f05de13b75 button');\n",
              "      quickchartButtonEl.style.display =\n",
              "        google.colab.kernel.accessAllowed ? 'block' : 'none';\n",
              "    })();\n",
              "  </script>\n",
              "</div>\n",
              "\n",
              "    </div>\n",
              "  </div>\n"
            ]
          },
          "metadata": {},
          "execution_count": 19
        }
      ]
    },
    {
      "cell_type": "markdown",
      "source": [
        "What is the target?"
      ],
      "metadata": {
        "id": "_0nam34eFJmG"
      }
    },
    {
      "cell_type": "markdown",
      "source": [
        "Our target is the vehicule type"
      ],
      "metadata": {
        "id": "b_-ho-9sFKXG"
      }
    },
    {
      "cell_type": "markdown",
      "source": [
        "What does one row represent?"
      ],
      "metadata": {
        "id": "JfuYBH_VFTJ2"
      }
    },
    {
      "cell_type": "markdown",
      "source": [
        "A person"
      ],
      "metadata": {
        "id": "YbUnQr4PFXZV"
      }
    },
    {
      "cell_type": "markdown",
      "source": [
        "How many features does the data have?"
      ],
      "metadata": {
        "id": "n5ZG1LZyFaIO"
      }
    },
    {
      "cell_type": "code",
      "source": [
        "len(df.columns)"
      ],
      "metadata": {
        "colab": {
          "base_uri": "https://localhost:8080/"
        },
        "id": "3SGFK1E_FbBN",
        "outputId": "8de27b7e-0835-4bed-d7a2-52df10a3f55d"
      },
      "execution_count": 20,
      "outputs": [
        {
          "output_type": "execute_result",
          "data": {
            "text/plain": [
              "19"
            ]
          },
          "metadata": {},
          "execution_count": 20
        }
      ]
    },
    {
      "cell_type": "markdown",
      "source": [
        "We have 18 features because we're not counting the column 'ID'"
      ],
      "metadata": {
        "id": "zv3Q1vuWFgEe"
      }
    },
    {
      "cell_type": "markdown",
      "source": [
        "How many rows are in the dataset?"
      ],
      "metadata": {
        "id": "-fJrzf8IFlgO"
      }
    },
    {
      "cell_type": "code",
      "source": [
        "df.shape[0]"
      ],
      "metadata": {
        "colab": {
          "base_uri": "https://localhost:8080/"
        },
        "id": "WUSaZlt4FoMW",
        "outputId": "4ea24f46-d669-4875-e947-251abc21ef9a"
      },
      "execution_count": 21,
      "outputs": [
        {
          "output_type": "execute_result",
          "data": {
            "text/plain": [
              "10000"
            ]
          },
          "metadata": {},
          "execution_count": 21
        }
      ]
    },
    {
      "cell_type": "markdown",
      "source": [
        "We have 10000 rows"
      ],
      "metadata": {
        "id": "P8tse5mXFrv-"
      }
    },
    {
      "cell_type": "markdown",
      "source": [
        "What, if any, challenges do you foresee in cleaning, exploring, or modeling this dataset?"
      ],
      "metadata": {
        "id": "pUj7L1CQFt09"
      }
    },
    {
      "cell_type": "code",
      "source": [
        "df.info()"
      ],
      "metadata": {
        "colab": {
          "base_uri": "https://localhost:8080/"
        },
        "id": "Fqb4fF3oFzo2",
        "outputId": "54627dd4-ca03-4149-df71-a75f77822b81"
      },
      "execution_count": 22,
      "outputs": [
        {
          "output_type": "stream",
          "name": "stdout",
          "text": [
            "<class 'pandas.core.frame.DataFrame'>\n",
            "RangeIndex: 10000 entries, 0 to 9999\n",
            "Data columns (total 19 columns):\n",
            " #   Column               Non-Null Count  Dtype  \n",
            "---  ------               --------------  -----  \n",
            " 0   ID                   10000 non-null  int64  \n",
            " 1   AGE                  10000 non-null  object \n",
            " 2   GENDER               10000 non-null  object \n",
            " 3   RACE                 10000 non-null  object \n",
            " 4   DRIVING_EXPERIENCE   10000 non-null  object \n",
            " 5   EDUCATION            10000 non-null  object \n",
            " 6   INCOME               10000 non-null  object \n",
            " 7   CREDIT_SCORE         9018 non-null   float64\n",
            " 8   VEHICLE_OWNERSHIP    10000 non-null  float64\n",
            " 9   VEHICLE_YEAR         10000 non-null  object \n",
            " 10  MARRIED              10000 non-null  float64\n",
            " 11  CHILDREN             10000 non-null  float64\n",
            " 12  POSTAL_CODE          10000 non-null  int64  \n",
            " 13  ANNUAL_MILEAGE       9043 non-null   float64\n",
            " 14  VEHICLE_TYPE         10000 non-null  object \n",
            " 15  SPEEDING_VIOLATIONS  10000 non-null  int64  \n",
            " 16  DUIS                 10000 non-null  int64  \n",
            " 17  PAST_ACCIDENTS       10000 non-null  int64  \n",
            " 18  OUTCOME              10000 non-null  float64\n",
            "dtypes: float64(6), int64(5), object(8)\n",
            "memory usage: 1.4+ MB\n"
          ]
        }
      ]
    },
    {
      "cell_type": "markdown",
      "source": [
        "We have missing values in the column 'ANNUAL_MILEAGE' and some columns need to have the type integer but they are object, so they need to be changed.\n",
        "Also, we need to check for inconsistant data and duplicated rows."
      ],
      "metadata": {
        "id": "mH143YPzF5yF"
      }
    },
    {
      "cell_type": "markdown",
      "source": [
        "Explore/clean the data"
      ],
      "metadata": {
        "id": "NX7MIdc3Gbqe"
      }
    },
    {
      "cell_type": "code",
      "source": [
        "df.duplicated().sum()"
      ],
      "metadata": {
        "colab": {
          "base_uri": "https://localhost:8080/"
        },
        "id": "eLhbtspvF5Ul",
        "outputId": "63d73603-c8ef-4adf-a7c7-faeef93fa8dd"
      },
      "execution_count": 23,
      "outputs": [
        {
          "output_type": "execute_result",
          "data": {
            "text/plain": [
              "0"
            ]
          },
          "metadata": {},
          "execution_count": 23
        }
      ]
    },
    {
      "cell_type": "code",
      "source": [
        "df['AGE'] = pd.to_numeric(df['AGE'], errors='coerce')\n",
        "df['DRIVING_EXPERIENCE'] = pd.to_numeric(df['DRIVING_EXPERIENCE'], errors='coerce')"
      ],
      "metadata": {
        "id": "B-FbT9XbGht-"
      },
      "execution_count": 24,
      "outputs": []
    },
    {
      "cell_type": "code",
      "source": [
        "df['ANNUAL_MILEAGE'] = df['ANNUAL_MILEAGE'].fillna('missing')"
      ],
      "metadata": {
        "id": "uzSohQDyFXFA"
      },
      "execution_count": 25,
      "outputs": []
    },
    {
      "cell_type": "code",
      "source": [
        "for column in df.columns:\n",
        "    print(f\"Unique values for {column}:\")\n",
        "    unique_values = df[column].unique()\n",
        "    print(unique_values)\n",
        "    print('-' * 40) # so we can have a separation"
      ],
      "metadata": {
        "colab": {
          "base_uri": "https://localhost:8080/"
        },
        "id": "WPi9nQ_BHf1d",
        "outputId": "5ac3a239-60d9-491e-9304-6b0ff05c5d43"
      },
      "execution_count": 26,
      "outputs": [
        {
          "output_type": "stream",
          "name": "stdout",
          "text": [
            "Unique values for ID:\n",
            "[569520 750365 199901 ... 468409 903459 442696]\n",
            "----------------------------------------\n",
            "Unique values for AGE:\n",
            "[nan]\n",
            "----------------------------------------\n",
            "Unique values for GENDER:\n",
            "['female' 'male']\n",
            "----------------------------------------\n",
            "Unique values for RACE:\n",
            "['majority' 'minority']\n",
            "----------------------------------------\n",
            "Unique values for DRIVING_EXPERIENCE:\n",
            "[nan]\n",
            "----------------------------------------\n",
            "Unique values for EDUCATION:\n",
            "['high school' 'none' 'university']\n",
            "----------------------------------------\n",
            "Unique values for INCOME:\n",
            "['upper class' 'poverty' 'working class' 'middle class']\n",
            "----------------------------------------\n",
            "Unique values for CREDIT_SCORE:\n",
            "[0.62902731 0.35775712 0.49314579 ... 0.47094023 0.36418478 0.43522478]\n",
            "----------------------------------------\n",
            "Unique values for VEHICLE_OWNERSHIP:\n",
            "[1. 0.]\n",
            "----------------------------------------\n",
            "Unique values for VEHICLE_YEAR:\n",
            "['after 2015' 'before 2015']\n",
            "----------------------------------------\n",
            "Unique values for MARRIED:\n",
            "[0. 1.]\n",
            "----------------------------------------\n",
            "Unique values for CHILDREN:\n",
            "[1. 0.]\n",
            "----------------------------------------\n",
            "Unique values for POSTAL_CODE:\n",
            "[10238 32765 92101 21217]\n",
            "----------------------------------------\n",
            "Unique values for ANNUAL_MILEAGE:\n",
            "[12000.0 16000.0 11000.0 13000.0 14000.0 10000.0 8000.0 'missing' 18000.0\n",
            " 17000.0 7000.0 15000.0 9000.0 5000.0 6000.0 19000.0 4000.0 3000.0 2000.0\n",
            " 20000.0 21000.0 22000.0]\n",
            "----------------------------------------\n",
            "Unique values for VEHICLE_TYPE:\n",
            "['sedan' 'sports car']\n",
            "----------------------------------------\n",
            "Unique values for SPEEDING_VIOLATIONS:\n",
            "[ 0  2  3  7  6  4 10 13  1  5  9  8 12 11 15 17 19 18 16 14 22]\n",
            "----------------------------------------\n",
            "Unique values for DUIS:\n",
            "[0 2 1 3 4 5 6]\n",
            "----------------------------------------\n",
            "Unique values for PAST_ACCIDENTS:\n",
            "[ 0  1  3  7  2  5  4  6  8 10 11  9 12 14 15]\n",
            "----------------------------------------\n",
            "Unique values for OUTCOME:\n",
            "[0. 1.]\n",
            "----------------------------------------\n"
          ]
        }
      ]
    },
    {
      "cell_type": "markdown",
      "source": [
        "Exploratory Visualizations\n",
        "Creating exploratory visualizations to understand your data and search for trends."
      ],
      "metadata": {
        "id": "i5w9mJYmH9kf"
      }
    },
    {
      "cell_type": "code",
      "source": [
        "plt.figure(figsize=(10, 6))\n",
        "sns.barplot(x='VEHICLE_TYPE', y='CREDIT_SCORE', hue='GENDER', data=df, palette='viridis')\n",
        "plt.title('Relationship between Vehicle Type and Credit Score')\n",
        "plt.xlabel('Vehicle Type')\n",
        "plt.ylabel('Credit Score')\n",
        "plt.legend(title='Gender')\n",
        "plt.show()"
      ],
      "metadata": {
        "colab": {
          "base_uri": "https://localhost:8080/",
          "height": 564
        },
        "id": "foGUx-WLH9Yg",
        "outputId": "adfefb92-725f-4ee7-aa0b-76e9dfefc53c"
      },
      "execution_count": 39,
      "outputs": [
        {
          "output_type": "display_data",
          "data": {
            "text/plain": [
              "<Figure size 1000x600 with 1 Axes>"
            ],
            "image/png": "[encoded data removed]"
          },
          "metadata": {}
        }
      ]
    },
    {
      "cell_type": "markdown",
      "source": [
        "Create Explanatory Visualizations\n",
        "Select two features from your EDA and produce explanatory visualizations showing the relationship between the feature and the target."
      ],
      "metadata": {
        "id": "UWEFftmKKlCb"
      }
    },
    {
      "cell_type": "code",
      "source": [
        "plt.figure(figsize=(12, 6))\n",
        "sns.boxplot(x=df['ANNUAL_MILEAGE'], y=df['CREDIT_SCORE'], data=df, palette='viridis')\n",
        "plt.title('Relationship between annual mileage and credit score')\n",
        "plt.xlabel('Credit Score')\n",
        "plt.ylabel('Annual Mileage')\n",
        "plt.xticks(rotation=45)\n",
        "plt.show()"
      ],
      "metadata": {
        "colab": {
          "base_uri": "https://localhost:8080/",
          "height": 600
        },
        "id": "-SXEEhVgKlzL",
        "outputId": "40a7ead0-a34f-4077-eaac-4ec5bfae65f5"
      },
      "execution_count": 46,
      "outputs": [
        {
          "output_type": "display_data",
          "data": {
            "text/plain": [
              "<Figure size 1200x600 with 1 Axes>"
            ],
            "image/png": "[encoded data removed]"
          },
          "metadata": {}
        }
      ]
    }
  ]
}